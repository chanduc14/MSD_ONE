df = spark.read.option("Header",True).option("Inferschema",True).csv("adls")
